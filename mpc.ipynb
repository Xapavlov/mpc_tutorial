{
 "cells": [
  {
   "cell_type": "markdown",
   "id": "b4fa81df-3382-46df-8c03-8c1b3b121799",
   "metadata": {},
   "source": [
    "## Optimal control\n",
    "Consider a linear time-invariant (LTI) dynamical system\n",
    "$$\\dot x(t) = Ax(t) + Bu(t),$$\n",
    "where \n",
    "$x(t)$ and $u(t)$ are the system's state and control vectors at time $t$\n",
    "\n",
    "**Optimal control task:** Compute $u(t)$ which drives the system state somewhere while optimising a prescribed measure of performace and satisfying some requirements\\constraints. "
   ]
  },
  {
   "cell_type": "markdown",
   "id": "5ef468b3-5980-48db-a97f-f66f4268b6b1",
   "metadata": {},
   "source": [
    "Real-life examples (they are everywhere):\n",
    "1) Control a drone to hover/fly without crashing\n",
    "2) Maintain optimal chemicals concentration in a chemical reactor\n",
    "3) Boost/throttle CPU frequencies under load subject to temperature constraints\n",
    "4) Regulate voltage/current in a battery charger\n",
    "5) etc.."
   ]
  },
  {
   "cell_type": "markdown",
   "id": "feceb625-e899-4286-94d8-bcf58426fdf9",
   "metadata": {},
   "source": [
    "### Practical example\n",
    "Consider a cart pole with inverted pendulum linearised around the unstable equlibrium (upward position), i.e., segway scooter.\n",
    "\n",
    "State vector $x$ is\n",
    "$$x = [position, velocity, angle, angular\\ velocity]^T$$\n",
    "\n",
    "Input vector $u$ is the force applied to the cart-pole."
   ]
  },
  {
   "cell_type": "code",
   "execution_count": null,
   "id": "8ada5096-b523-4880-84f1-e88632e99535",
   "metadata": {},
   "outputs": [],
   "source": [
    "import numpy as np\n",
    "import matplotlib.pyplot as plt\n",
    "import scipy\n",
    "import scipy.linalg"
   ]
  },
  {
   "cell_type": "markdown",
   "id": "d62b931f-6760-4a1b-9954-bafaa679a2d4",
   "metadata": {},
   "source": [
    "Linearised model for the cart pole is as follows"
   ]
  },
  {
   "cell_type": "code",
   "execution_count": null,
   "id": "7223dc93-820c-4db7-8846-b19195f183d4",
   "metadata": {},
   "outputs": [],
   "source": [
    "M = 1           #cart pole mass\n",
    "m = 0.1         #pendulum mass\n",
    "l = 1           #pendulum length\n",
    "g = 9.8         #gravity\n",
    "\n",
    "A = np.array([[0, 1, 0,            0],\n",
    "              [0, 0, -m*g/M,       0],\n",
    "              [0, 0, 0,            1],\n",
    "              [0, 0, (m+M)*g/l/M, 0]])\n",
    "B = np.array([[0],\n",
    "             [1/M],\n",
    "             [0],\n",
    "             [-1/l/M]]);"
   ]
  },
  {
   "cell_type": "code",
   "execution_count": null,
   "id": "9296388a-dfc5-4136-a0e6-488ea0c0cd24",
   "metadata": {},
   "outputs": [],
   "source": [
    "def xdot(x,u):\n",
    "    return np.dot(A,x)+np.dot(B,u)"
   ]
  },
  {
   "cell_type": "code",
   "execution_count": null,
   "id": "8bea6883-e3e5-48cc-83f5-88b5c7462c7d",
   "metadata": {},
   "outputs": [],
   "source": [
    "def integrateOpenLoop(x0, U, steps, dt=1e-3):\n",
    "    X = np.empty([x0.size, steps+1])\n",
    "    X[:,0]=x0\n",
    "    for t in range(steps):\n",
    "        x = X[:, t]               #current state\n",
    "        u = U[:, t]               #current control\n",
    "        xnext = x + xdot(x,u)*dt  #Euler integrator\n",
    "        X[:, t+1] = xnext\n",
    "    return X"
   ]
  },
  {
   "cell_type": "code",
   "execution_count": null,
   "id": "f3cf8c3a-83d1-417f-92cc-a5ef7885cf84",
   "metadata": {},
   "outputs": [],
   "source": [
    "# integrate dynamics with 0 control input\n",
    "dt = 1e-3\n",
    "steps = 1000\n",
    "x0 = np.array([0,0,1e-3,0])\n",
    "U = np.zeros([1, steps])\n",
    "X=integrateOpenLoop(x0,U, steps, dt)"
   ]
  },
  {
   "cell_type": "code",
   "execution_count": null,
   "id": "d87b930f-5b26-438c-8c79-c95e9b515bf7",
   "metadata": {},
   "outputs": [],
   "source": [
    "legend = [\"Position\", \"Velocity\", \"Angle\", \"Angular velocity\"]\n",
    "for n in range(X.shape[0]):\n",
    "    plt.plot(X[n,:],label=\"%s\"%legend[n])\n",
    "plt.legend(loc=1)"
   ]
  },
  {
   "cell_type": "markdown",
   "id": "2f3b138f-f5ee-42b7-a62c-59b3a6045c9c",
   "metadata": {},
   "source": [
    "States deviate exponetionally from origin, so let's stabialise it by prescribing a cost associated with states' deviation from the unstable equlibrium (plus let's penalise control)\n",
    "\n",
    "$$\\min_{x,u} \\int_{t=0}^{\\infty}q(x(t),u(t)) dt $$\n",
    "$$subject\\ to\\ \\dot x(t)=Ax(t)+Bu(t)$$\n",
    "\n",
    "**Example:** $q(x,u)=\\| x\\|_{*}^2 + \\|u\\|_{**}^2$, where $\\|\\cdot\\|_*$ and $\\|\\cdot\\|_{**}$ are vector norms that we can choose (design parameter), e.g., weighted 2-norms $\\| x\\|_{Q}^2=x^TQx$ and $\\|u\\|_{R}^2 = u^TRu $ for some matrices $Q\\succ0$ and $R\\succ0$.\n"
   ]
  },
  {
   "cell_type": "markdown",
   "id": "43c17832-0411-4a13-a7d8-fdf857fe2b24",
   "metadata": {},
   "source": [
    "**Note:** We can also use cost functions which have direct physical meaning and often related to performace/efficience/operating costs/etc, thus known under the name of Economic Model Predictive Control."
   ]
  },
  {
   "cell_type": "code",
   "execution_count": null,
   "id": "f1794eb6-0d8a-4b4b-849b-edcf45010afb",
   "metadata": {},
   "outputs": [],
   "source": [
    "Q = np.diag([1, 100, 0.1, 1])\n",
    "R = 0.001*np.eye(1)"
   ]
  },
  {
   "cell_type": "markdown",
   "id": "00176b7f-104d-4dc3-9e85-4413a5961918",
   "metadata": {},
   "source": [
    "Right now open loop system is unstable and the stage cost\n",
    "$$q(x,u) = \\| x_t\\|_{Q}^2 + \\|u_t\\|_{R}^2$$\n",
    "is increasing with time. We will see it right now."
   ]
  },
  {
   "cell_type": "code",
   "execution_count": null,
   "id": "4003d48a-38a0-42f7-ad6d-1ecd82881c80",
   "metadata": {},
   "outputs": [],
   "source": [
    "q = np.empty(steps)\n",
    "for t in range(steps):\n",
    "    x = X[:, t]\n",
    "    u = U[:, t]\n",
    "    q[t] =  #TODO: complete me\n",
    "plt.plot(q, label=\"Stage cost\")\n",
    "plt.legend(loc=1)"
   ]
  },
  {
   "cell_type": "markdown",
   "id": "26bfcdc5-9c5b-4de0-85de-9df379666ea9",
   "metadata": {},
   "source": [
    "### Linear-Quadratic Regulator\n",
    "Problem \n",
    "$$\\min_{x(t),u(t)} \\int_{t=0}^{\\infty} (\\| x(t)\\|_{Q}^2 + \\|u(t)\\|_{R}^2)dt $$\n",
    "$$subject\\ to\\ \\dot x(t)=Ax(t)+Bu(t)$$\n",
    "has an analytical solution known as LQR in the form of $u(x) = -Kx$. One can compute it by solving Algebraic Riccati equation "
   ]
  },
  {
   "cell_type": "markdown",
   "id": "aec0f5ae-e1f9-4f13-9341-8db14a72334e",
   "metadata": {},
   "source": [
    "$$A^{T}P+PA-PBR^{-1}B^{T}P+Q=0$$\n",
    "and \n",
    "$$K=R^{-1}B^{T}P$$"
   ]
  },
  {
   "cell_type": "code",
   "execution_count": null,
   "id": "328579b6-c3c9-47f8-a60d-0df839acb2fd",
   "metadata": {},
   "outputs": [],
   "source": [
    "P=scipy.linalg.solve_continuous_are(A, B, Q, R)\n",
    "K= #TODO: complete me"
   ]
  },
  {
   "cell_type": "code",
   "execution_count": null,
   "id": "0001c4c1-523f-4f4e-98fc-d930bc158ad3",
   "metadata": {},
   "outputs": [],
   "source": [
    "def integrateClosedLoop(x0, K, steps, dt=1e-3):\n",
    "    X = np.empty([x0.size, steps+1])\n",
    "    U = np.empty([K.shape[0], steps])\n",
    "    X[:,0]=x0\n",
    "    for t in range(steps):\n",
    "        x = X[:, t]               #current state\n",
    "        u =                       #TODO: complete me\n",
    "        xnext = x + xdot(x,u)*dt  #Euler integrator\n",
    "        X[:, t+1] = xnext\n",
    "        U[:, t] = u\n",
    "    return X, U"
   ]
  },
  {
   "cell_type": "code",
   "execution_count": null,
   "id": "8dd21649-753c-433c-8a83-7fe43ca62961",
   "metadata": {},
   "outputs": [],
   "source": [
    "x0 = np.array([0.1,0,-1e-3,0])\n",
    "steps=10000\n",
    "X,U=integrateClosedLoop(x0,K, steps, dt)"
   ]
  },
  {
   "cell_type": "code",
   "execution_count": null,
   "id": "5c34da5f-3e44-4591-b54f-b0a302ee30d8",
   "metadata": {},
   "outputs": [],
   "source": [
    "legend = [\"Position\", \"Velocity\", \"Angle\", \"Angular velocity\"]\n",
    "for n in range(X.shape[0]):\n",
    "    plt.plot(X[n,0:],label=\"%s\"%legend[n])\n",
    "plt.legend(loc=1)"
   ]
  },
  {
   "cell_type": "markdown",
   "id": "b4aab3a3-5f57-4595-8e95-011acbafb709",
   "metadata": {},
   "source": [
    "### Asymptotic stability\n",
    "\n",
    "The states and control vectors are converging to zero - is system asymptotically stable? How do we know that? Let's consider the evolution of the stage cost"
   ]
  },
  {
   "cell_type": "code",
   "execution_count": null,
   "id": "f8f0af86-29ec-4ea1-aec1-405d9d3f495a",
   "metadata": {},
   "outputs": [],
   "source": [
    "q = np.empty(steps)\n",
    "for t in range(steps):\n",
    "    x = X[:, t]\n",
    "    u = U[:, t]\n",
    "    q[t] = np.dot(x, np.dot(Q, x)) + np.dot(u, np.dot(R, u))\n",
    "plt.plot(q[0:2000], label=\"Stage cost\")\n",
    "plt.legend(loc=1)"
   ]
  },
  {
   "cell_type": "markdown",
   "id": "6968e1bd-3646-430d-ad80-b2e818bce2ab",
   "metadata": {},
   "source": [
    "For time steps from 100 to 1000 the stage cost is increasing. Need a better way to quantify stability point-wise. "
   ]
  },
  {
   "cell_type": "markdown",
   "id": "dedc8d84-5041-4f56-a3fb-3433ce89738d",
   "metadata": {},
   "source": [
    "Total cost associated with LQR is a quadratic function (with $P\\succ0$) \n",
    "$$x^TPx$$ called Value funtion (or Cost-to-go).\n",
    "\n",
    "1) It is strictly positive everywhere except the origin (where is is zero), and \n",
    "2) It has a negative time derivative except the origin (where is is zero), so it is strictly decreasing in time.\n",
    "\n",
    "A function $V(x(t))$  that has these properties is called a Lyapunov function. Existence of such a funtion proves that system is stable in the sense of Lyapunov."
   ]
  },
  {
   "cell_type": "code",
   "execution_count": null,
   "id": "645e3bfa-1279-4e3e-9e8d-4d16b830439f",
   "metadata": {},
   "outputs": [],
   "source": [
    "p = np.empty(steps)\n",
    "#TODO: complete me\n",
    "plt.plot(p, label=\"Cost-to-go\")\n",
    "plt.legend(loc=1)"
   ]
  },
  {
   "cell_type": "markdown",
   "id": "bc03d242-bdad-4b8e-b0a4-9164dd978d47",
   "metadata": {},
   "source": [
    "### Beyond LQR\n",
    "\n",
    "Motivation to go futher:\n",
    "1) LQR assumes that $u$ is not limited and can take arbitrary values. What is we have a limited control athority? \n",
    "2) LQR requires linear dynamics and quadratic stage cost. What if we have a nonlinear system? Or we care about different cost functions?\n",
    "3) Explicit state constraints due to safety considerations?\n",
    "4) External disturbances? Uncertainty in dynamics? "
   ]
  },
  {
   "cell_type": "markdown",
   "id": "31aa492a-6363-4371-a122-15ff015f095c",
   "metadata": {},
   "source": [
    "**MPC** - Model Predictive Control - is a set of tools for constructing, solving and analysing numerical optimisation based control tasks (and resulting control laws)"
   ]
  },
  {
   "cell_type": "markdown",
   "id": "768f94aa-a67a-4886-bf57-8e3242e2abd2",
   "metadata": {},
   "source": [
    "MPC Recipe:\n",
    "\n",
    "1) Optimal control problem has to be discretised to use numerical solvers.\n",
    "2) Infinite time horizon replaced with a finite prediction horizon.\n",
    "3) Optimal control law is now replaced with point-wise function evaluation at each time step."
   ]
  },
  {
   "cell_type": "markdown",
   "id": "75c1aa71-dc01-44ef-afbc-902bc4ba37ce",
   "metadata": {},
   "source": [
    "Research questions:\n",
    "\n",
    "1) How to ensure stability of the closed loop system by design?\n",
    "2) What are the consequences of finite prediction horizon on optimality?\n",
    "3) How to account for disturbances and uncertainies?\n",
    "4) Structure exploiting algorithms?"
   ]
  },
  {
   "cell_type": "markdown",
   "id": "d5b6b62a-1a9a-4764-a101-955e867fe202",
   "metadata": {},
   "source": [
    "### Model predictive control"
   ]
  },
  {
   "cell_type": "markdown",
   "id": "a57ea325-ae8f-4a37-bb88-4d23eed02577",
   "metadata": {},
   "source": [
    "Transform\n",
    "$$\\min_{x(t),u(t)} \\int_{t=0}^{\\infty} (\\| x(t)\\|_{Q}^2 + \\|u(t)\\|_{R}^2)dt $$\n",
    "$$subject\\ to\\ \\dot x(t)=Ax(t)+Bu(t)$$\n",
    "into\n",
    "$$\\min_{x_k,u_k} \\sum_{k=0}^{N} (\\| x_k\\|_{Q}^2 + \\|u_k\\|_{R}^2)\\Delta t + q_f(x_N)$$\n",
    "$$subject\\ to\\ x_{k+1}=A_d x_k+B_d u_k,\\ x_0 = x_{init}$$\n",
    "assuming that $N$ is big enough to capture \"interesting\" parts and $q_f(x_N)$ is the terminal cost which accounts for the tail.\n",
    "\n"
   ]
  },
  {
   "cell_type": "markdown",
   "id": "86cfcd88-151e-4b29-bba6-3b86000639ce",
   "metadata": {},
   "source": [
    "For now let's use due to simpicity\n",
    "$$q_f(\\cdot)\\equiv0$$"
   ]
  },
  {
   "cell_type": "code",
   "execution_count": null,
   "id": "83ce23ec-ae66-47a4-91bd-783b7400db77",
   "metadata": {},
   "outputs": [],
   "source": [
    "#discretize the system so x_next = Ad * x + Bd * u\n",
    "dim_x = 4\n",
    "dim_u = 1\n",
    "Ad= np.eye(dim_x)+ A*dt\n",
    "Bd = B*dt\n",
    "Qd=Q*dt\n",
    "Rd=R*dt"
   ]
  },
  {
   "cell_type": "code",
   "execution_count": null,
   "id": "50c4423b-0941-4b7d-9977-038bb83fc6f2",
   "metadata": {},
   "outputs": [],
   "source": [
    "from cvxpy import *"
   ]
  },
  {
   "cell_type": "code",
   "execution_count": null,
   "id": "d6e5d96e-fa5f-4fca-89f3-0cc65841da30",
   "metadata": {},
   "outputs": [],
   "source": [
    "N=100\n",
    "U = Variable((dim_u, N))\n",
    "X = Variable((dim_x, N+1))\n",
    "x_init = Parameter(dim_x)\n",
    "objective = 0\n",
    "constraints = [X[:,0] == x_init]\n",
    "for k in range(N):\n",
    "    objective += quad_form(X[:,k], Qd) + quad_form(U[:,k], Rd)\n",
    "    constraints += ##TODO: complete me\n",
    "mpc = Problem(Minimize(objective), constraints)    "
   ]
  },
  {
   "cell_type": "code",
   "execution_count": null,
   "id": "db913a6f-73f0-440e-97fb-f5531be809ae",
   "metadata": {},
   "outputs": [],
   "source": [
    "%%time\n",
    "x0 = np.array([1,0,-1e-3,0])\n",
    "steps = 1000\n",
    "Xtraj = np.empty([x0.size, steps])\n",
    "Jtraj = np.empty(steps)\n",
    "x=x0\n",
    "for t in range(steps):\n",
    "    x_init.value = x\n",
    "    Jtraj[t]=mpc.solve(solver=OSQP, warm_start=True)\n",
    "    Xtraj[:,t] = x;\n",
    "    x = Ad.dot(x) + Bd.dot(U[:,0].value)"
   ]
  },
  {
   "cell_type": "code",
   "execution_count": null,
   "id": "33e63c64-9ce2-4b61-9ae7-77cc58b590f7",
   "metadata": {},
   "outputs": [],
   "source": [
    "legend = [\"Position\", \"Velocity\", \"Angle\", \"Angular velocity\"]\n",
    "for n in range(Xtraj.shape[0]):\n",
    "    plt.plot(Xtraj[n,:],label=\"%s\"%legend[n])\n",
    "plt.legend(loc=1)"
   ]
  },
  {
   "cell_type": "code",
   "execution_count": null,
   "id": "db9ef721-62cb-476a-b3cf-6465fc06df1a",
   "metadata": {},
   "outputs": [],
   "source": [
    "p = np.empty(steps)\n",
    "for k in range(steps):\n",
    "    x = Xtraj[:, k]\n",
    "    p[k] = np.dot(x, np.dot(P, x))\n",
    "plt.plot(p, label=\"LQR Cost-to-go\")\n",
    "plt.legend(loc=1)"
   ]
  },
  {
   "cell_type": "code",
   "execution_count": null,
   "id": "829eb136-2180-4d46-9af2-4e57129ab4e3",
   "metadata": {},
   "outputs": [],
   "source": [
    "plt.plot(Jtraj, label=\"MPC cost\")\n",
    "plt.legend(loc=1)"
   ]
  },
  {
   "cell_type": "markdown",
   "id": "e87cf539-365b-440c-bfaa-8bcc05598a84",
   "metadata": {},
   "source": [
    "**Lesson learned? Using $q_f(\\cdot)\\equiv 0$ does not look like a good choice here.** First we need to understand why it might be not a good choice and when it is. Next we will figure out if we can do better. "
   ]
  },
  {
   "cell_type": "markdown",
   "id": "026d026d-6218-4efe-a070-a285421684bb",
   "metadata": {},
   "source": [
    "Stage cost usually represent a short term goals, e.g., minimise control efforts, while the integral over the sufficiently long time horizon encodes the control task. \n",
    "\n",
    "**If $N$ is too small** or **$q_f(\\cdot)$ in not big enough** the controller is underestimating long-term costs and is \"too lazy\" to capture and complete the task.\n",
    "\n",
    "What we can do?\n",
    "\n",
    "1) Increase N? One can prove that (under a set of assumtions) there exists a critical value for $N$ such that the closed loop is stable.\n",
    "2) Place terminal cost which **does not underestimate** the total cost associated with the tail.\n",
    "2) Use LQR cost? Yes, but we need to constrain the terminal state to stay in the set where LQR control is a suitable choice. \n",
    "3) Explictly ask for the last state to be at the origin. It is equivalent to placing infinite terminal cost (everywhere except the origin).\n"
   ]
  },
  {
   "cell_type": "markdown",
   "id": "08c460a9-0cbb-406d-b8e6-98d00cff9a64",
   "metadata": {},
   "source": [
    "Now let's add LQR cost-to-go as the terminal cost"
   ]
  },
  {
   "cell_type": "code",
   "execution_count": null,
   "id": "ef2a8955-1eb4-4f1e-af67-19b6dc50cee9",
   "metadata": {},
   "outputs": [],
   "source": [
    "N=100\n",
    "U = Variable((dim_u, N))\n",
    "X = Variable((dim_x, N+1))\n",
    "x_init = Parameter(dim_x)\n",
    "objective = 0\n",
    "constraints = [X[:,0] == x_init]\n",
    "for k in range(N):\n",
    "    objective += quad_form(X[:,k], Qd) + quad_form(U[:,k], Rd)\n",
    "    constraints += [X[:,k+1] == Ad@X[:,k] + Bd@U[:,k]]\n",
    "objective+=                                            #TODO: complete me\n",
    "mpc = Problem(Minimize(objective), constraints)    "
   ]
  },
  {
   "cell_type": "code",
   "execution_count": null,
   "id": "6ee4e151-8189-46a5-9e25-810134aec5aa",
   "metadata": {},
   "outputs": [],
   "source": [
    "%%time\n",
    "x0 = np.array([1,0,-1e-3,0])\n",
    "steps = 1000\n",
    "Xtraj = np.empty([x0.size, steps])\n",
    "Utraj = np.empty(steps)\n",
    "Jtraj = np.empty(steps)\n",
    "x=x0\n",
    "for t in range(steps):\n",
    "    Xtraj[:,t] = x;\n",
    "    x_init.value = x\n",
    "    Jtraj[t]=mpc.solve(solver=OSQP, warm_start=False)\n",
    "    x = Ad.dot(x) + Bd.dot(U[:,0].value)\n",
    "    Utraj[t] = U[:,0].value;"
   ]
  },
  {
   "cell_type": "code",
   "execution_count": null,
   "id": "e93a351c-ece8-4d03-a5e9-5e9e90e1306d",
   "metadata": {},
   "outputs": [],
   "source": [
    "legend = [\"Position\", \"Velocity\", \"Angle\", \"Angular velocity\"]\n",
    "for n in range(Xtraj.shape[0]):\n",
    "    plt.plot(Xtraj[n,0:],label=\"%s\"%legend[n])\n",
    "plt.legend(loc=1)"
   ]
  },
  {
   "cell_type": "code",
   "execution_count": null,
   "id": "f36a3422-d028-4ac2-bc5a-955c9857dc40",
   "metadata": {},
   "outputs": [],
   "source": [
    "plt.plot(Jtraj, label=\"MPC cost\")\n",
    "plt.legend(loc=1)"
   ]
  },
  {
   "cell_type": "markdown",
   "id": "53db9cd8-fdc6-4634-b36a-087a61ef18dd",
   "metadata": {},
   "source": [
    "### Input constraints\n",
    "\n",
    "Now we explore one of the main advantages of MPC - its natural ability to handle constraints. Lets first have a look at the control signal from the unconstrained MPC control law"
   ]
  },
  {
   "cell_type": "code",
   "execution_count": null,
   "id": "1a248aad-f7bb-424c-8ad0-a3fa8e034ab5",
   "metadata": {},
   "outputs": [],
   "source": [
    "plt.plot(Utraj[0:100], label=\"MPC control\")\n",
    "plt.legend(loc=1)"
   ]
  },
  {
   "cell_type": "code",
   "execution_count": null,
   "id": "4a0056c1-6491-417b-bf0c-1631402bf15d",
   "metadata": {},
   "outputs": [],
   "source": [
    "N=100\n",
    "U = Variable((dim_u, N))\n",
    "X = Variable((dim_x, N+1))\n",
    "x_init = Parameter(dim_x)\n",
    "objective = 0\n",
    "constraints = [X[:,0] == x_init]\n",
    "for k in range(N):\n",
    "    objective += quad_form(X[:,k], Qd) + quad_form(U[:,k], Rd)\n",
    "    constraints += [X[:,k+1] == Ad@X[:,k] + Bd@U[:,k]]\n",
    "    constraints += #TODO: complete me\n",
    "objective+=quad_form(X[:,N], P)\n",
    "mpc = Problem(Minimize(objective), constraints)    "
   ]
  },
  {
   "cell_type": "code",
   "execution_count": null,
   "id": "6508c2b7-e786-4476-bf5d-273c108db128",
   "metadata": {},
   "outputs": [],
   "source": [
    "%%time\n",
    "x0 = np.array([1,0,-1e-3,0])\n",
    "steps = 1000\n",
    "Xtraj = np.empty([x0.size, steps])\n",
    "Utraj = np.empty(steps)\n",
    "Jtraj = np.empty(steps)\n",
    "x=x0\n",
    "for t in range(steps):\n",
    "    x_init.value = x\n",
    "    Jtraj[t]=mpc.solve(solver=OSQP, warm_start=True)\n",
    "    Xtraj[:,t] = x;\n",
    "    Utraj[t] = U[:,0].value;\n",
    "    x = Ad.dot(x) + Bd.dot(U[:,0].value)"
   ]
  },
  {
   "cell_type": "code",
   "execution_count": null,
   "id": "c87aee9f-0bd5-41f0-af80-fb8745400114",
   "metadata": {},
   "outputs": [],
   "source": [
    "plt.plot(Utraj[0:], label=\"MPC cost\")\n",
    "plt.legend(loc=1)"
   ]
  },
  {
   "cell_type": "code",
   "execution_count": null,
   "id": "85f55637-4136-4ee7-97b2-7d43005c25e1",
   "metadata": {},
   "outputs": [],
   "source": [
    "legend = [\"Position\", \"Velocity\", \"Angle\", \"Angular velocity\"]\n",
    "for n in range(Xtraj.shape[0]):\n",
    "    plt.plot(Xtraj[n,0:1000],label=\"%s\"%legend[n])\n",
    "plt.legend(loc=1)"
   ]
  },
  {
   "cell_type": "markdown",
   "id": "645dcf1d-c508-4dd2-ba7d-527a954f8f0e",
   "metadata": {},
   "source": [
    "#### Machine learning and MPC"
   ]
  },
  {
   "cell_type": "markdown",
   "id": "17ebf96d-2209-4272-bfb4-360bcc4aa511",
   "metadata": {},
   "source": [
    "Consider the MPC problem\n",
    "$$V(x_{init})=\\min_{x_k,u_k} \\sum_{k=0}^{N} q(x_k,u_k) + q_f(x_N)$$\n",
    "$$subject\\ to\\ x_{k+1}=f(x_k,u_k),\\ x_0 = x_{init}$$\n",
    "$$             c(x_k,u_k)\\leq 0$$\n",
    "It has the following ingrediets that can benefit from ML:\n",
    "1) Dynamics -> Deep learning \n",
    "2) Constraints -> Safe learning \n",
    "3) Stage costs -> Active learning\n",
    "4) Value function -> Reinforcement leaning\n",
    "5) Optimal control law -> Function approximations"
   ]
  },
  {
   "cell_type": "code",
   "execution_count": null,
   "id": "10755318-3845-4c05-ba06-4f2cdbbb3889",
   "metadata": {},
   "outputs": [],
   "source": []
  }
 ],
 "metadata": {
  "kernelspec": {
   "display_name": "Python 3 (ipykernel)",
   "language": "python",
   "name": "python3"
  },
  "language_info": {
   "codemirror_mode": {
    "name": "ipython",
    "version": 3
   },
   "file_extension": ".py",
   "mimetype": "text/x-python",
   "name": "python",
   "nbconvert_exporter": "python",
   "pygments_lexer": "ipython3",
   "version": "3.9.12"
  }
 },
 "nbformat": 4,
 "nbformat_minor": 5
}
